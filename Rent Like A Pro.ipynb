{
 "cells": [
  {
   "cell_type": "markdown",
   "metadata": {},
   "source": [
    "__Hassan Mojeed__<br>\n",
    "[Linkedin Profile](https://www.linkedin.com/in/hassanmojeed/)<br>\n",
    "_mojeed.o.hassan@gmail.com_"
   ]
  },
  {
   "cell_type": "markdown",
   "metadata": {},
   "source": [
    "# Pricing Perspectives: Research On Long-Term Condo Rentals Across Canada\n",
    "\n",
    "### [Click here for the dynamic visuals](https://app.powerbi.com/view?r=eyJrIjoiNDIxOGNjZWMtNDMwZi00NWNhLTkzZDktM2Y3NDEyNzBhYzNiIiwidCI6ImFlM2E5OTA2LTc4MWEtNDQ2YS1iZGI2LTYzNzdjMDllMmM2ZiIsImMiOjF9&pageName=ReportSection)"
   ]
  },
  {
   "cell_type": "markdown",
   "metadata": {},
   "source": [
    "### Introduction\n",
    " In this project, I will conduct an in-depth analysis of long-term rental pricing in Canada, leveraging the booming real estate market. The primary goal of this project is to uncover patterns related to apartment types, costs, and locations. By deciphering the dynamics that influence housing trends nationwide, this analysis aims to offer valuable insights for both tenants and investors.\n",
    "\n",
    " ### Data Collection\n",
    "\n",
    " The data used in this project was scraped from Kijiji, a well-known Canada's leading local classifieds platform, facilitating the buying, selling, and trading of a wide range of items, including cars, real estate, jobs, services, and more. It operates as a subsidiary of eBay and has a significant presence in Canada, as well as in other countries like Switzerland, Austria, and Japan. \n",
    " \n",
    " I will be performing some activities such as;\n",
    "\n",
    "- Looping: to iteratively navigate through pages, and\n",
    "- Extracting vital information such as:\n",
    "\n",
    "    1. Apartment type\n",
    "    2. Rental cost\n",
    "    3. Location\n",
    "    4. Description\n",
    "    5. Number of rooms. \n",
    "To efficiently parse the HTML content, I will use the BeautifulSoup library.\n",
    "\n",
    "### Data Processing\n",
    "The data processing and cleaning procedures in the involve employing diverse techniques. To extract attribute-based text, a custom function called extract_text is utilized, while specific HTML tags are employed to target relevant information.\n",
    "\n",
    "### Data Export\n",
    "The data is transformed into a Pandas DataFrame after undergoing a cleaning process. Subsequently, the final DataFrame is exported to an Google sheet file in order to facilitate further analysis. This step guarantees a consistent and easily accessible format for subsequent stages.\n",
    "\n",
    "### Data Visualization\n",
    "Utilizing Power BI, the exported data is transformed into visually appealing dashboards and impactful visual representations of key metrics. By harnessing the capabilities of Power BI, stakeholders gain a holistic view of rental patterns, facilitating informed decision-making in the ever-evolving real estate market."
   ]
  },
  {
   "cell_type": "code",
   "execution_count": 112,
   "metadata": {},
   "outputs": [],
   "source": [
    "# Import necessary libraries\n",
    "from bs4 import BeautifulSoup  # BeautifulSoup is used for web scraping\n",
    "import requests  # Used for making HTTP requests\n",
    "import pandas as pd  # Pandas library for data manipulation and analysis\n",
    "import numpy as np\n",
    "from df2gspread import df2gspread as d2g\n",
    "import os\n",
    "import gspread\n",
    "from oauth2client.service_account import ServiceAccountCredentials\n",
    "import warnings\n",
    "warnings.filterwarnings(\"ignore\")"
   ]
  },
  {
   "cell_type": "code",
   "execution_count": 134,
   "metadata": {},
   "outputs": [],
   "source": [
    "page_numbers = np.arange(1,47)\n",
    "\n",
    "# Initialize an empty list to store apartment rental details\n",
    "apartment_rental_details = []\n",
    "\n",
    "\n",
    "# Loop through the pages\n",
    "for page_number in page_numbers:\n",
    "\n",
    "    # Define the base URL for Kijiji apartment listings\n",
    "    base_url = \"https://www.kijiji.ca/b-apartments-condos/canada/page-\"\n",
    "\n",
    "    # URL separator for sorting by date in descending order\n",
    "    url_separator = \"/c37l0\"\n",
    "\n",
    "    # Construct the full URL for the current page\n",
    "    url = base_url + str(page_number) + url_separator\n",
    "\n",
    "    # Make an HTTP GET request to the URL\n",
    "    response = requests.get(url)\n",
    "\n",
    "    # Parse the HTML content of the page using BeautifulSoup\n",
    "    page = BeautifulSoup(response.text, \"html.parser\")\n",
    "\n",
    "    # Find the container holding the apartment listings\n",
    "    listings = page.find_all(\"div\", class_=\"sc-a1f24150-0 AgbZX\")[10]\n",
    "\n",
    "    # Find all individual apartment sections within the container\n",
    "    apartments = listings.find_all(\"ul\", {\"class\" : \"sc-6cfad96a-0 jYHHlY\"})[1]\n",
    "\n",
    "    # Loop through each apartment section\n",
    "    for apartment in apartments:\n",
    "\n",
    "        # Define a function to extract text from specific HTML elements\n",
    "        def extract_cost(tag, attribute):\n",
    "            try:\n",
    "                return apartment.find(tag, attribute).text.replace(\",\", \"\")\n",
    "            except AttributeError:\n",
    "                return None\n",
    "\n",
    "        def extract_text(tag, attribute):\n",
    "            try:\n",
    "                return apartment.find(tag, attribute).text\n",
    "            except AttributeError:\n",
    "                return None\n",
    "            \n",
    "        # Extract apartment details: type, rental cost, location, and description\n",
    "        apartment_type = extract_text(\"h3\", {\"class\": \"sc-c54bbc09-0 KhHgs sc-a7f125aa-8 hIkVmb\"})\n",
    "        rental_cost = extract_cost(\"div\", {\"class\": \"sc-d6110703-0 cOYpsS\"})\n",
    "        location = extract_text(\"div\", {\"class\":\"sc-3ae9d016-0 WYiPw\"})\n",
    "        description = extract_text(\"p\", {\"class\" : \"sc-c54bbc09-0 loTzYZ sc-a7f125aa-10 jA-dWnw\"})\n",
    "\n",
    "        # Append the apartment details to the list\n",
    "        apartment_rental_details.append([apartment_type, rental_cost, location, description])\n"
   ]
  },
  {
   "cell_type": "code",
   "execution_count": 135,
   "metadata": {},
   "outputs": [
    {
     "data": {
      "text/plain": [
       "(1840, 4)"
      ]
     },
     "execution_count": 135,
     "metadata": {},
     "output_type": "execute_result"
    }
   ],
   "source": [
    "# Create a Pandas DataFrame using the apartment_rental_details list\n",
    "# Specify column names as \"Apartment_type\", \"Rental_cost\", \"Location\", and \"Description\"\n",
    "df = pd.DataFrame(apartment_rental_details, columns=[\"Apartment_type\", \"Rental_cost\", \"Location\", \"Description\"])\n",
    "\n",
    "df.shape"
   ]
  },
  {
   "cell_type": "code",
   "execution_count": 136,
   "metadata": {},
   "outputs": [],
   "source": [
    "# Filter rows in the DataFrame where \"Rental_cost\" is not equal to \"please Contact\"\n",
    "df = df[df[\"Rental_cost\"] != \"Please Contact\"].dropna()\n",
    "\n",
    "# Reset the index of the DataFrame and create a new DataFrame 'data'\n",
    "df1 = df.reset_index(drop=True)"
   ]
  },
  {
   "cell_type": "code",
   "execution_count": 137,
   "metadata": {},
   "outputs": [
    {
     "data": {
      "text/plain": [
       "Apartment_type    0\n",
       "Rental_cost       0\n",
       "Location          0\n",
       "Description       0\n",
       "dtype: int64"
      ]
     },
     "execution_count": 137,
     "metadata": {},
     "output_type": "execute_result"
    }
   ],
   "source": [
    "data= df1.drop_duplicates().reset_index(drop=True)\n",
    "data[\"Rental_cost\"] = [x.strip(\"$\") for x in data[\"Rental_cost\"]]\n",
    "data.isna().sum()"
   ]
  },
  {
   "cell_type": "code",
   "execution_count": 138,
   "metadata": {},
   "outputs": [
    {
     "data": {
      "text/plain": [
       "(1686, 4)"
      ]
     },
     "execution_count": 138,
     "metadata": {},
     "output_type": "execute_result"
    }
   ],
   "source": [
    "data.shape"
   ]
  },
  {
   "cell_type": "code",
   "execution_count": 140,
   "metadata": {},
   "outputs": [
    {
     "data": {
      "text/plain": [
       "'/Users/mj/Projects/Projects/webscrapingProject/cool-ship-407420-9aadad67f295.json'"
      ]
     },
     "execution_count": 140,
     "metadata": {},
     "output_type": "execute_result"
    }
   ],
   "source": [
    "path = os.getcwd()\n",
    "file = path + '/cool-ship-407420-9aadad67f295.json'\n",
    "file"
   ]
  },
  {
   "cell_type": "code",
   "execution_count": 141,
   "metadata": {},
   "outputs": [
    {
     "name": "stdout",
     "output_type": "stream",
     "text": [
      "The sheet is uploaded successfully\n"
     ]
    }
   ],
   "source": [
    "# Import necessary libraries\n",
    "scope = ['https://spreadsheets.google.com/feeds', 'https://www.googleapis.com/auth/drive', 'https://www.googleapis.com/auth/drive.file', 'https://www.googleapis.com/auth/spreadsheets']\n",
    "creds = ServiceAccountCredentials.from_json_keyfile_name(file, scope)\n",
    "client = gspread.authorize(creds)\n",
    "\n",
    "# Create a new Google Sheets file with the name 'Rental Price Perspective'\n",
    "spreadsheet = client.create('Rental Price Perspective')\n",
    "\n",
    "# Specify the spreadsheet key for the newly created Google Sheets file\n",
    "spreadsheet_key = '1ixobCbTWoQAJ-vXYOuu3ruvcULtWtKlhIQXoTQpUk_8'\n",
    "\n",
    "# Uncomment the following lines if you want to work with the default first sheet\n",
    "# Get the default first sheet\n",
    "# sheet = spreadsheet.sheet1\n",
    "\n",
    "# Update the Google Sheets with the DataFrame\n",
    "# sheet.update([data.columns.values.tolist()] + data.values.tolist())\n",
    "\n",
    "# Define the worksheet name and starting cell for the data upload\n",
    "worksheetName = 'Sheet1'\n",
    "starting_cell = 'A1'\n",
    "\n",
    "# Upload the data to Google Sheets using the d2g library\n",
    "d2g.upload(data, spreadsheet_key, worksheetName, credentials=creds, col_names=True, row_names=False, start_cell=starting_cell, clean=False)\n",
    "\n",
    "# Print a success message\n",
    "print('The sheet is uploaded successfully')\n"
   ]
  },
  {
   "cell_type": "markdown",
   "metadata": {},
   "source": [
    "### [Click here for the dynamic visuals](https://app.powerbi.com/view?r=eyJrIjoiNDIxOGNjZWMtNDMwZi00NWNhLTkzZDktM2Y3NDEyNzBhYzNiIiwidCI6ImFlM2E5OTA2LTc4MWEtNDQ2YS1iZGI2LTYzNzdjMDllMmM2ZiIsImMiOjF9&pageName=ReportSection)"
   ]
  },
  {
   "cell_type": "markdown",
   "metadata": {},
   "source": [
    "### [Click here for scraped data](https://docs.google.com/spreadsheets/d/e/2PACX-1vStFRr--ayUoUfnB2MR6WeUFwjyzAJtNX0jyuBIw-y0DOPMHDt48HBIsz9DEwK2gV_oXsuLkdL2PI1b/pubhtml)"
   ]
  },
  {
   "cell_type": "markdown",
   "metadata": {},
   "source": []
  }
 ],
 "metadata": {
  "kernelspec": {
   "display_name": "base",
   "language": "python",
   "name": "python3"
  },
  "language_info": {
   "codemirror_mode": {
    "name": "ipython",
    "version": 3
   },
   "file_extension": ".py",
   "mimetype": "text/x-python",
   "name": "python",
   "nbconvert_exporter": "python",
   "pygments_lexer": "ipython3",
   "version": "3.11.5"
  }
 },
 "nbformat": 4,
 "nbformat_minor": 2
}
